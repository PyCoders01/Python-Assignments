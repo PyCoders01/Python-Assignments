{
 "cells": [
  {
   "cell_type": "markdown",
   "metadata": {},
   "source": [
    "    Sum of two squares"
   ]
  },
  {
   "cell_type": "code",
   "execution_count": 11,
   "metadata": {},
   "outputs": [],
   "source": [
    "def sum_of_two_squares(m):\n",
    "    for i in range(0,m): #first number\n",
    "        for j in range(0,m): #rsecond number\n",
    "            if i*i + j*j ==m: #if equal\n",
    "                return (j,i)\n",
    "    return \"None\""
   ]
  },
  {
   "cell_type": "code",
   "execution_count": 14,
   "metadata": {},
   "outputs": [
    {
     "name": "stdout",
     "output_type": "stream",
     "text": [
      "None\n",
      "(1, 1)\n",
      "(7, 1)\n",
      "(2, 2)\n",
      "None\n",
      "(456, 123)\n"
     ]
    }
   ],
   "source": [
    "print(sum_of_two_squares(1))\n",
    "print(sum_of_two_squares(2))\n",
    "print(sum_of_two_squares(50))\n",
    "print(sum_of_two_squares(8))\n",
    "print(sum_of_two_squares(11))\n",
    "print(sum_of_two_squares(123**2+456**2))"
   ]
  },
  {
   "cell_type": "markdown",
   "metadata": {},
   "source": [
    "    Blocks in Pyramid"
   ]
  },
  {
   "cell_type": "code",
   "execution_count": 6,
   "metadata": {},
   "outputs": [],
   "source": [
    "def pyramid_blocks(n,m,h):\n",
    "    blocks=0\n",
    "    for i in range(0,h):\n",
    "        blocks+=(n*m)\n",
    "        m+=1\n",
    "        n+=1\n",
    "    return blocks"
   ]
  },
  {
   "cell_type": "code",
   "execution_count": 10,
   "metadata": {},
   "outputs": [
    {
     "name": "stdout",
     "output_type": "stream",
     "text": [
      "6\n",
      "570\n",
      "3212\n",
      "2318350\n",
      "2333331833333500000\n"
     ]
    }
   ],
   "source": [
    "print(pyramid_blocks(2,3,1))\n",
    "print(pyramid_blocks(2,3,10))\n",
    "print(pyramid_blocks(10,11,12))\n",
    "print(pyramid_blocks(100,100,100))\n",
    "print(pyramid_blocks(10**6,10**6,10**6))"
   ]
  },
  {
   "cell_type": "markdown",
   "metadata": {},
   "source": [
    "    kth Occurance"
   ]
  },
  {
   "cell_type": "code",
   "execution_count": 34,
   "metadata": {},
   "outputs": [],
   "source": [
    "def rem_item(a,k):\n",
    "    frequency = {}\n",
    "    b=[]\n",
    "    for item in a: #Calculating freq of each element\n",
    "        if (item in frequency):\n",
    "            frequency[item] += 1\n",
    "        else:\n",
    "            frequency[item] = 1\n",
    "        if(frequency[item]<=k): #print till k terms of element\n",
    "            b.append(item)\n",
    "    return(b)"
   ]
  },
  {
   "cell_type": "code",
   "execution_count": 42,
   "metadata": {},
   "outputs": [
    {
     "name": "stdout",
     "output_type": "stream",
     "text": [
      "[42, 42, 42]\n",
      "['tom', 42, 'bob', 'bob', 99, 'tom', 99]\n",
      "[1, 2, 3, 4, 5, 4, 3, 2, 1, 2, 3, 4, 5, 1, 5]\n",
      "[1, 2, 3, 4, 5]\n",
      "[]\n"
     ]
    }
   ],
   "source": [
    "print(rem_item([42,42,42,42,42,42,42], 3))\n",
    "print(rem_item(['tom', 42, 'bob','bob', 99, 'bob','tom','tom',99], 2))\n",
    "print(rem_item([1,2,3,4,5,4,3,2,1,2,3,4,5,4,3,2,1,2,3,4,5], 3))\n",
    "print(rem_item([1,2,3,4,5,4,3,2,1,2,3,4,5,4,3,2,1], 1))\n",
    "print(rem_item([42,42,42,99,99,17], 0))"
   ]
  },
  {
   "cell_type": "markdown",
   "metadata": {},
   "source": [
    "    Suppressed digit Sum"
   ]
  },
  {
   "cell_type": "code",
   "execution_count": 1,
   "metadata": {},
   "outputs": [],
   "source": [
    "def remove_char(str, n): #function to remove a char from a string\n",
    "      first_part = str[:n] \n",
    "      last_part = str[n+1:]\n",
    "      return first_part + last_part"
   ]
  },
  {
   "cell_type": "code",
   "execution_count": 2,
   "metadata": {},
   "outputs": [],
   "source": [
    "def supp_dgt_sum(n):\n",
    "    m=str(n) #int to string\n",
    "    d=0\n",
    "    while n>0:\n",
    "        n//=10\n",
    "        d+=1 #no of digits in the integer\n",
    "    a=[]\n",
    "    for i in  range(0,d):\n",
    "        a.append(remove_char(m,i))#removing one digit\n",
    "    b=[]\n",
    "    for x in a:\n",
    "        if x not in b:\n",
    "            b.append(x)\n",
    "    sum=0\n",
    "    for x in b:\n",
    "        if x is '':#single digit number error\n",
    "            x=0\n",
    "        sum+=int(x)\n",
    "    return sum"
   ]
  },
  {
   "cell_type": "code",
   "execution_count": 3,
   "metadata": {
    "scrolled": true
   },
   "outputs": [
    {
     "name": "stdout",
     "output_type": "stream",
     "text": [
      "0\n",
      "6\n",
      "2326731\n",
      "123456780\n",
      "444444444\n"
     ]
    }
   ],
   "source": [
    "print(supp_dgt_sum(1))\n",
    "print(supp_dgt_sum(42))\n",
    "print(supp_dgt_sum(7771777))\n",
    "print(supp_dgt_sum(123456789))\n",
    "print(supp_dgt_sum(4444444444))"
   ]
  },
  {
   "cell_type": "markdown",
   "metadata": {},
   "source": [
    "    Extract Increasing"
   ]
  },
  {
   "cell_type": "code",
   "execution_count": 6,
   "metadata": {},
   "outputs": [],
   "source": [
    "def extract_increasing(a):\n",
    "    b=[]\n",
    "    d=[0]\n",
    "    if(int(a)>0):\n",
    "        a=list(a)\n",
    "        for i in range(len(a)):\n",
    "            b.append(a[i])\n",
    "            c=\"\".join(b)\n",
    "            c=int(c)\n",
    "            if(c>max(d)):\n",
    "                d.append(c)\n",
    "                b=[]\n",
    "        return d\n",
    "    else:\n",
    "        return [0]"
   ]
  },
  {
   "cell_type": "code",
   "execution_count": 10,
   "metadata": {},
   "outputs": [
    {
     "name": "stdout",
     "output_type": "stream",
     "text": [
      "[0]\n",
      "[4, 5, 34]\n",
      "[7, 77, 777, 7777, 77777, 777777]\n",
      "[1, 2, 23, 33, 44, 445, 555, 566, 666]\n",
      "[1, 2, 3, 4, 5, 6, 7, 8, 9, 98, 765, 4321]\n",
      "[3, 14, 15, 92, 653, 5897, 9323, 84626, 433832, 795028]\n",
      "[2, 7, 18, 28, 182, 845, 904, 5235, 36028, 74713, 526624, 977572, 4709369, 9959574, 96696762, 772407663, 3535475945, 7138217852, 51664274274, 66391932003, 599218174135, 966290435729]\n",
      "[1, 2, 3, 4, 5, 6, 7, 8, 9, 12, 34, 56, 78, 91, 234, 567, 891, 2345, 6789, 12345, 67891, 234567, 891234, 5678912, 34567891, 234567891, 2345678912, 3456789123, 4567891234, 5678912345, 6789123456, 7891234567, 8912345678, 9123456789, 12345678912, 34567891234, 56789123456, 78912345678, 91234567891, 234567891234, 567891234567, 891234567891, 2345678912345, 6789123456789, 12345678912345, 67891234567891, 234567891234567, 891234567891234, 5678912345678912, 34567891234567891, 234567891234567891, 2345678912345678912, 3456789123456789123, 4567891234567891234, 5678912345678912345, 6789123456789123456, 7891234567891234567, 8912345678912345678, 9123456789123456789, 12345678912345678912, 34567891234567891234, 56789123456789123456, 78912345678912345678, 91234567891234567891, 234567891234567891234, 567891234567891234567, 891234567891234567891, 2345678912345678912345, 6789123456789123456789, 12345678912345678912345, 67891234567891234567891, 234567891234567891234567, 891234567891234567891234, 5678912345678912345678912, 34567891234567891234567891]\n"
     ]
    }
   ],
   "source": [
    "print(extract_increasing('0'))\n",
    "print(extract_increasing('045349'))\n",
    "print(extract_increasing('77777777777777777777777'))\n",
    "print(extract_increasing('122333444455555666666'))\n",
    "print(extract_increasing('1234567890987654321'))\n",
    "print(extract_increasing('3141592653589793238462643383279502884'))\n",
    "print(extract_increasing('2718281828459045235360287471352662497757247093699959574966967627724076630353547594571382178525166427427466391932003059921817413596629043572900334295260'))\n",
    "print(extract_increasing('123456789'*100))"
   ]
  },
  {
   "cell_type": "markdown",
   "metadata": {},
   "source": [
    "    words that contain given sequence"
   ]
  },
  {
   "cell_type": "code",
   "execution_count": 1,
   "metadata": {},
   "outputs": [],
   "source": [
    "with open(\"words.txt\",\"r\") as f:\n",
    "      words = [line.strip() for line in f]\n",
    "import re #re module\n",
    "def words_with_letters(words,letters): #function call\n",
    "    r='.*' #regular expression\n",
    "    save_list=[]\n",
    "    for i in letters:\n",
    "        r=r+i+'.*'\n",
    "    for i in words:\n",
    "        if re.fullmatch(r,i)!=None:\n",
    "            save_list.append(i)\n",
    "    return save_list"
   ]
  },
  {
   "cell_type": "code",
   "execution_count": 2,
   "metadata": {},
   "outputs": [
    {
     "name": "stdout",
     "output_type": "stream",
     "text": [
      "['antiferromagnetic', 'antimagnetic', 'antimnemonic', 'aquopentamminecobaltic', 'pantomnesic', 'phantasmogenetic']\n",
      "['underskirt', 'underskirts', 'unshockability', 'unshrinkability', 'unsinkability', 'unskaithd', 'unskaithed', 'unskirted', 'unspeakability']\n",
      "['frumpish', 'frumpishly', 'frumpishness', 'grumpish', 'grumpishness', 'porcupinish', 'rupiah', 'rupiahs', 'trumpetfish', 'trumpetfishes']\n",
      "['adrenalectomy', 'arteriectomy', 'arteriophlebotomy', 'arteriosympathectomy', 'blepharosphincterectomy', 'deferentectomy', 'duodenopancreatectomy', 'endarterectomy', 'epididymodeferentectomy', 'gastroenterocolostomy', 'gastroenterostomy', 'gastroenterotomy', 'gastrohysterectomy', 'hernioenterotomy', 'laparoenterostomy', 'laparoenterotomy', 'laparohysterectomy', 'laparonephrectomy', 'laparosplenectomy', 'oophorhysterectomy', 'ovariohysterectomy', 'pancreatectomy', 'pancreaticoduodenostomy', 'pancreatoduodenectomy', 'pancreatoenterostomy', 'pancreectomy', 'parelectronomy', 'phrenicectomy', 'preeconomically', 'prereformatory', 'preterdiplomatically', 'prostatovesiculectomy', 'rectectomy', 'reflectometry', 'roentgenometry', 'suprarenalectomy', 'thyreoidectomy', 'trachelectomy', 'triacetyloleandomycin', 'ureterectomy', 'ureterocystostomy', 'ureterocolostomy', 'ureteroenterostomy', 'ureterolithotomy', 'ureteronephrectomy', 'ureteropyelostomy', 'ureteroproctostomy', 'ureterorectostomy', 'ureterosalpingostomy', 'ureterosigmoidostomy', 'ureterostomy', 'ureterotomy', 'urethrectomy', 'vertebrectomy']\n"
     ]
    }
   ],
   "source": [
    "print(words_with_letters(words,'antmneic'))\n",
    "print(words_with_letters(words,'unskit'))\n",
    "print(words_with_letters(words,'rupih'))\n",
    "print(words_with_letters(words,'reeomy'))"
   ]
  }
 ],
 "metadata": {
  "kernelspec": {
   "display_name": "Python 3",
   "language": "python",
   "name": "python3"
  },
  "language_info": {
   "codemirror_mode": {
    "name": "ipython",
    "version": 3
   },
   "file_extension": ".py",
   "mimetype": "text/x-python",
   "name": "python",
   "nbconvert_exporter": "python",
   "pygments_lexer": "ipython3",
   "version": "3.7.6"
  }
 },
 "nbformat": 4,
 "nbformat_minor": 2
}
